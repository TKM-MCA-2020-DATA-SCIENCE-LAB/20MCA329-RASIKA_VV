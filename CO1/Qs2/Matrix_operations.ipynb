{
  "nbformat": 4,
  "nbformat_minor": 0,
  "metadata": {
    "colab": {
      "name": "Matrix_operations",
      "provenance": [],
      "collapsed_sections": []
    },
    "kernelspec": {
      "name": "python3",
      "display_name": "Python 3"
    },
    "language_info": {
      "name": "python"
    }
  },
  "cells": [
    {
      "cell_type": "code",
      "metadata": {
        "id": "vknYNJgP_wQ7",
        "colab": {
          "base_uri": "https://localhost:8080/"
        },
        "outputId": "0441cc97-4380-4425-b1cf-894e2ad73c41"
      },
      "source": [
        "#Matrix operations (using vectorization) and transformation using python and SVD using Python.\n",
        "import numpy as np;\n",
        "\n",
        "list1=[10,20,30,40]\n",
        "np.array(list1)\n",
        "\n",
        "list2=[[1,2,3],[4,5,6],[7,8,9]]\n",
        "np.array(list2)\n",
        "np.arange(0,10)\n",
        "np.arange(0,10,2)\n",
        "np.zeros(3)\n",
        "np.zeros((5,5))\n",
        "np.ones(3)\n",
        "np.ones((3,3))\n",
        "np.eye(3)\n",
        "np.linspace(0,5,10)\n",
        "np.linspace(0,10,100)\n",
        "np.random.rand(5)\n",
        "np.random.rand(5,4)\n",
        "np.random.randn(5)\n",
        "np.random.randint(1,100)\n",
        "np.random.randint(1,100,2)\n",
        "np.arange(0,25)\n",
        "np.random.randint(0,50,10)\n",
        "\n",
        "a=np.arange(0,25)\n",
        "a.reshape(5,5)\n",
        "a.max()\n",
        "a.min()\n",
        "a.argmax()\n",
        "a.argmin()\n",
        "a.shape\n",
        "a.dtype\n",
        "\n",
        "l=[[1,2,3],[4,5,6],[7,8,9]]\n",
        "l=np.array(l)\n",
        "l[2]\n",
        "l[1,2]\n",
        "lis=[10,20,30,40]\n",
        "t=np.array(lis)\n",
        "t[0:3]=100\n",
        "\n",
        "l[1:2]=100\n",
        "# print(l)\n",
        "l[:]=50\n",
        "# print(l)\n",
        "\n",
        "e=[[5,10,15],[20,25,30],[35,40,45]]\n",
        "y=np.array(e)\n",
        "y[:2,1:]\n",
        "y[1:3,0:2]\n",
        "\n",
        "lt=[[10,20,30],[35,40,45],[60,65,80]]\n",
        "c=np.array(lt)\n",
        "tf=c>20\n",
        "c[tf]\n",
        "\n",
        "\n"
      ],
      "execution_count": 2,
      "outputs": [
        {
          "output_type": "execute_result",
          "data": {
            "text/plain": [
              "array([30, 35, 40, 45, 60, 65, 80])"
            ]
          },
          "metadata": {},
          "execution_count": 2
        }
      ]
    },
    {
      "cell_type": "code",
      "metadata": {
        "id": "EQHFxfpd_yMt"
      },
      "source": [
        ""
      ],
      "execution_count": 2,
      "outputs": []
    },
    {
      "cell_type": "code",
      "metadata": {
        "id": "538Lug5hBXoG",
        "colab": {
          "base_uri": "https://localhost:8080/"
        },
        "outputId": "efda5ddf-5c09-4885-d078-9d51310ff6ee"
      },
      "source": [
        "import numpy as np\n",
        "s=np.arange(0,10)\n",
        "s+s \n",
        "\n",
        "s=np.arange(0,10)\n",
        "s-s \n",
        "\n",
        "s=np.arange(0,10)\n",
        "s*s \n",
        "\n",
        "s=np.arange(0,10)\n",
        "s/s "
      ],
      "execution_count": 3,
      "outputs": [
        {
          "output_type": "stream",
          "name": "stderr",
          "text": [
            "/usr/local/lib/python3.7/dist-packages/ipykernel_launcher.py:12: RuntimeWarning: invalid value encountered in true_divide\n",
            "  if sys.path[0] == '':\n"
          ]
        },
        {
          "output_type": "execute_result",
          "data": {
            "text/plain": [
              "array([nan,  1.,  1.,  1.,  1.,  1.,  1.,  1.,  1.,  1.])"
            ]
          },
          "metadata": {},
          "execution_count": 3
        }
      ]
    },
    {
      "cell_type": "code",
      "metadata": {
        "colab": {
          "base_uri": "https://localhost:8080/"
        },
        "id": "ENw320SRLHWM",
        "outputId": "daaddea6-c700-4193-bfb7-ebe0ea11ee4a"
      },
      "source": [
        "import numpy as np\n",
        "np.zeros(10)\n",
        "np.ones(10)\n",
        "s=np.ones(10)\n",
        "s*5"
      ],
      "execution_count": 4,
      "outputs": [
        {
          "output_type": "execute_result",
          "data": {
            "text/plain": [
              "array([5., 5., 5., 5., 5., 5., 5., 5., 5., 5.])"
            ]
          },
          "metadata": {},
          "execution_count": 4
        }
      ]
    },
    {
      "cell_type": "code",
      "metadata": {
        "colab": {
          "base_uri": "https://localhost:8080/"
        },
        "id": "ocgjNdJeagzs",
        "outputId": "03ebe931-ff49-4adb-f070-6768ce743e68"
      },
      "source": [
        "import numpy as np\n",
        "np.arange(10,51)"
      ],
      "execution_count": 5,
      "outputs": [
        {
          "output_type": "execute_result",
          "data": {
            "text/plain": [
              "array([10, 11, 12, 13, 14, 15, 16, 17, 18, 19, 20, 21, 22, 23, 24, 25, 26,\n",
              "       27, 28, 29, 30, 31, 32, 33, 34, 35, 36, 37, 38, 39, 40, 41, 42, 43,\n",
              "       44, 45, 46, 47, 48, 49, 50])"
            ]
          },
          "metadata": {},
          "execution_count": 5
        }
      ]
    },
    {
      "cell_type": "code",
      "metadata": {
        "colab": {
          "base_uri": "https://localhost:8080/"
        },
        "id": "c5ba7Fazbz_c",
        "outputId": "8aa2ba99-47d8-40b8-e905-83ae75c05c49"
      },
      "source": [
        "import numpy as np\n",
        "np.arange(10,51,2)"
      ],
      "execution_count": 6,
      "outputs": [
        {
          "output_type": "execute_result",
          "data": {
            "text/plain": [
              "array([10, 12, 14, 16, 18, 20, 22, 24, 26, 28, 30, 32, 34, 36, 38, 40, 42,\n",
              "       44, 46, 48, 50])"
            ]
          },
          "metadata": {},
          "execution_count": 6
        }
      ]
    },
    {
      "cell_type": "code",
      "metadata": {
        "colab": {
          "base_uri": "https://localhost:8080/"
        },
        "id": "1dEh213LcWzs",
        "outputId": "6a73424b-837f-4b40-d9f8-9b1e506af376"
      },
      "source": [
        "import numpy as np\n",
        "m=np.arange(0,9)\n",
        "m.reshape(3,3)\n"
      ],
      "execution_count": 7,
      "outputs": [
        {
          "output_type": "execute_result",
          "data": {
            "text/plain": [
              "array([[0, 1, 2],\n",
              "       [3, 4, 5],\n",
              "       [6, 7, 8]])"
            ]
          },
          "metadata": {},
          "execution_count": 7
        }
      ]
    },
    {
      "cell_type": "code",
      "metadata": {
        "colab": {
          "base_uri": "https://localhost:8080/"
        },
        "id": "Mz9tZmMUcrAk",
        "outputId": "2eae18a8-a3bb-4633-be01-dd4d3a0a3d7d"
      },
      "source": [
        "import numpy as np\n",
        "np.eye(3)"
      ],
      "execution_count": 8,
      "outputs": [
        {
          "output_type": "execute_result",
          "data": {
            "text/plain": [
              "array([[1., 0., 0.],\n",
              "       [0., 1., 0.],\n",
              "       [0., 0., 1.]])"
            ]
          },
          "metadata": {},
          "execution_count": 8
        }
      ]
    },
    {
      "cell_type": "code",
      "metadata": {
        "colab": {
          "base_uri": "https://localhost:8080/"
        },
        "id": "5XZ5U_tYdG3c",
        "outputId": "4bf8ccbb-efa7-4f38-8e11-320162d3f71d"
      },
      "source": [
        "import numpy as np\n",
        "np.random.rand(1)"
      ],
      "execution_count": 9,
      "outputs": [
        {
          "output_type": "execute_result",
          "data": {
            "text/plain": [
              "array([0.63013506])"
            ]
          },
          "metadata": {},
          "execution_count": 9
        }
      ]
    },
    {
      "cell_type": "code",
      "metadata": {
        "colab": {
          "base_uri": "https://localhost:8080/"
        },
        "id": "Ktp-Q_WhdhVR",
        "outputId": "95c1f728-a7b5-4601-8bea-0cd26b603c09"
      },
      "source": [
        "np.random.rand(1,100,25)"
      ],
      "execution_count": 10,
      "outputs": [
        {
          "output_type": "execute_result",
          "data": {
            "text/plain": [
              "array([[[0.56232949, 0.68423231, 0.70725517, ..., 0.56396312,\n",
              "         0.78280128, 0.6233969 ],\n",
              "        [0.38611727, 0.20871148, 0.90914758, ..., 0.09061035,\n",
              "         0.8611587 , 0.20961606],\n",
              "        [0.40314273, 0.989946  , 0.37462092, ..., 0.40751528,\n",
              "         0.18083719, 0.99702374],\n",
              "        ...,\n",
              "        [0.4583213 , 0.71987921, 0.48255414, ..., 0.84123357,\n",
              "         0.03470449, 0.03957747],\n",
              "        [0.92176842, 0.25913381, 0.9855556 , ..., 0.27028941,\n",
              "         0.88955043, 0.83687567],\n",
              "        [0.10088976, 0.48728482, 0.22128749, ..., 0.32358756,\n",
              "         0.20865605, 0.05883834]]])"
            ]
          },
          "metadata": {},
          "execution_count": 10
        }
      ]
    },
    {
      "cell_type": "code",
      "metadata": {
        "colab": {
          "base_uri": "https://localhost:8080/"
        },
        "id": "YhoBVq6reu9C",
        "outputId": "6cf691dc-57b9-4f72-af40-602052688a23"
      },
      "source": [
        "np.random.randn(5,5)"
      ],
      "execution_count": 11,
      "outputs": [
        {
          "output_type": "execute_result",
          "data": {
            "text/plain": [
              "array([[ 1.28324546, -0.72440023, -2.16779651, -0.05225372,  0.74506449],\n",
              "       [-1.77343959,  0.26335886, -0.8644148 ,  0.22499591, -0.59366922],\n",
              "       [-1.36265406,  0.75593928,  0.21080699, -1.21459483,  0.62410261],\n",
              "       [-1.67471662,  0.585262  , -0.44907367,  0.3274141 , -0.12240634],\n",
              "       [-0.52379635,  1.14919921,  0.43310748,  1.80185016, -1.75051451]])"
            ]
          },
          "metadata": {},
          "execution_count": 11
        }
      ]
    },
    {
      "cell_type": "code",
      "metadata": {
        "colab": {
          "base_uri": "https://localhost:8080/"
        },
        "id": "6AdWyw-xf5t7",
        "outputId": "768aee24-596f-4214-a1c2-4ae1d7bb9fa5"
      },
      "source": [
        "c=np.arange(1,101)\n",
        "f=c.reshape(10,10)\n",
        "f/100\n"
      ],
      "execution_count": 12,
      "outputs": [
        {
          "output_type": "execute_result",
          "data": {
            "text/plain": [
              "array([[0.01, 0.02, 0.03, 0.04, 0.05, 0.06, 0.07, 0.08, 0.09, 0.1 ],\n",
              "       [0.11, 0.12, 0.13, 0.14, 0.15, 0.16, 0.17, 0.18, 0.19, 0.2 ],\n",
              "       [0.21, 0.22, 0.23, 0.24, 0.25, 0.26, 0.27, 0.28, 0.29, 0.3 ],\n",
              "       [0.31, 0.32, 0.33, 0.34, 0.35, 0.36, 0.37, 0.38, 0.39, 0.4 ],\n",
              "       [0.41, 0.42, 0.43, 0.44, 0.45, 0.46, 0.47, 0.48, 0.49, 0.5 ],\n",
              "       [0.51, 0.52, 0.53, 0.54, 0.55, 0.56, 0.57, 0.58, 0.59, 0.6 ],\n",
              "       [0.61, 0.62, 0.63, 0.64, 0.65, 0.66, 0.67, 0.68, 0.69, 0.7 ],\n",
              "       [0.71, 0.72, 0.73, 0.74, 0.75, 0.76, 0.77, 0.78, 0.79, 0.8 ],\n",
              "       [0.81, 0.82, 0.83, 0.84, 0.85, 0.86, 0.87, 0.88, 0.89, 0.9 ],\n",
              "       [0.91, 0.92, 0.93, 0.94, 0.95, 0.96, 0.97, 0.98, 0.99, 1.  ]])"
            ]
          },
          "metadata": {},
          "execution_count": 12
        }
      ]
    },
    {
      "cell_type": "code",
      "metadata": {
        "colab": {
          "base_uri": "https://localhost:8080/"
        },
        "id": "DzFvwboUgfwK",
        "outputId": "24a5874b-8fdd-4189-f47f-7b18c678d171"
      },
      "source": [
        "np.linspace(0,1,20)"
      ],
      "execution_count": 13,
      "outputs": [
        {
          "output_type": "execute_result",
          "data": {
            "text/plain": [
              "array([0.        , 0.05263158, 0.10526316, 0.15789474, 0.21052632,\n",
              "       0.26315789, 0.31578947, 0.36842105, 0.42105263, 0.47368421,\n",
              "       0.52631579, 0.57894737, 0.63157895, 0.68421053, 0.73684211,\n",
              "       0.78947368, 0.84210526, 0.89473684, 0.94736842, 1.        ])"
            ]
          },
          "metadata": {},
          "execution_count": 13
        }
      ]
    },
    {
      "cell_type": "code",
      "metadata": {
        "colab": {
          "base_uri": "https://localhost:8080/"
        },
        "id": "FzxEl0f5iiDC",
        "outputId": "b8b307e1-8cf2-4eb7-9638-20bea889839c"
      },
      "source": [
        "d=np.arange(1,26).reshape(5,5)\n",
        "d\n",
        "# d[2:,1:]\n"
      ],
      "execution_count": 14,
      "outputs": [
        {
          "output_type": "execute_result",
          "data": {
            "text/plain": [
              "array([[ 1,  2,  3,  4,  5],\n",
              "       [ 6,  7,  8,  9, 10],\n",
              "       [11, 12, 13, 14, 15],\n",
              "       [16, 17, 18, 19, 20],\n",
              "       [21, 22, 23, 24, 25]])"
            ]
          },
          "metadata": {},
          "execution_count": 14
        }
      ]
    },
    {
      "cell_type": "code",
      "metadata": {
        "colab": {
          "base_uri": "https://localhost:8080/"
        },
        "id": "2PctRmBki-Ke",
        "outputId": "d96980a7-dd9e-4f1f-9cd0-20fadea5be0b"
      },
      "source": [
        "d[2:,1:]"
      ],
      "execution_count": 15,
      "outputs": [
        {
          "output_type": "execute_result",
          "data": {
            "text/plain": [
              "array([[12, 13, 14, 15],\n",
              "       [17, 18, 19, 20],\n",
              "       [22, 23, 24, 25]])"
            ]
          },
          "metadata": {},
          "execution_count": 15
        }
      ]
    },
    {
      "cell_type": "code",
      "metadata": {
        "colab": {
          "base_uri": "https://localhost:8080/"
        },
        "id": "r8CNnZbok3oY",
        "outputId": "360412b8-603a-4bfc-b2cd-f8b1e7887baa"
      },
      "source": [
        "d[3][4]"
      ],
      "execution_count": 16,
      "outputs": [
        {
          "output_type": "execute_result",
          "data": {
            "text/plain": [
              "20"
            ]
          },
          "metadata": {},
          "execution_count": 16
        }
      ]
    },
    {
      "cell_type": "code",
      "metadata": {
        "colab": {
          "base_uri": "https://localhost:8080/"
        },
        "id": "QEPNr8IDk80g",
        "outputId": "6907011a-0983-4df6-ac35-2d757777b8e0"
      },
      "source": [
        "d[0:3,1:2]"
      ],
      "execution_count": 17,
      "outputs": [
        {
          "output_type": "execute_result",
          "data": {
            "text/plain": [
              "array([[ 2],\n",
              "       [ 7],\n",
              "       [12]])"
            ]
          },
          "metadata": {},
          "execution_count": 17
        }
      ]
    },
    {
      "cell_type": "code",
      "metadata": {
        "colab": {
          "base_uri": "https://localhost:8080/"
        },
        "id": "90Vxxk6rlo-I",
        "outputId": "ca2b59be-ffb2-479d-aa5c-108f304dc9ad"
      },
      "source": [
        "d[3:]"
      ],
      "execution_count": 18,
      "outputs": [
        {
          "output_type": "execute_result",
          "data": {
            "text/plain": [
              "array([[16, 17, 18, 19, 20],\n",
              "       [21, 22, 23, 24, 25]])"
            ]
          },
          "metadata": {},
          "execution_count": 18
        }
      ]
    },
    {
      "cell_type": "code",
      "metadata": {
        "colab": {
          "base_uri": "https://localhost:8080/"
        },
        "id": "mHtSfmxzm4FH",
        "outputId": "658411e6-b2c0-4750-f97b-f732ab6a2b68"
      },
      "source": [
        "d[4:]"
      ],
      "execution_count": 19,
      "outputs": [
        {
          "output_type": "execute_result",
          "data": {
            "text/plain": [
              "array([[21, 22, 23, 24, 25]])"
            ]
          },
          "metadata": {},
          "execution_count": 19
        }
      ]
    },
    {
      "cell_type": "code",
      "metadata": {
        "colab": {
          "base_uri": "https://localhost:8080/"
        },
        "id": "eEGE1KQanVMP",
        "outputId": "7abc374f-5295-49be-8b2b-b32ec34df2e5"
      },
      "source": [
        "d.sum()"
      ],
      "execution_count": 20,
      "outputs": [
        {
          "output_type": "execute_result",
          "data": {
            "text/plain": [
              "325"
            ]
          },
          "metadata": {},
          "execution_count": 20
        }
      ]
    },
    {
      "cell_type": "code",
      "metadata": {
        "id": "mjFYYoF1n6uP",
        "colab": {
          "base_uri": "https://localhost:8080/"
        },
        "outputId": "6ffd8da4-6909-4431-8025-3e0836f85b06"
      },
      "source": [
        "d.std()\n"
      ],
      "execution_count": 21,
      "outputs": [
        {
          "output_type": "execute_result",
          "data": {
            "text/plain": [
              "7.211102550927978"
            ]
          },
          "metadata": {},
          "execution_count": 21
        }
      ]
    },
    {
      "cell_type": "markdown",
      "source": [
        "**SVD**"
      ],
      "metadata": {
        "id": "__ItPQ2ocj3u"
      }
    },
    {
      "cell_type": "code",
      "metadata": {
        "id": "wO8wZZTloSOX",
        "colab": {
          "base_uri": "https://localhost:8080/"
        },
        "outputId": "a33bdfa3-672d-404e-aa4c-3799a8e09ac3"
      },
      "source": [
        "import numpy as np\n",
        "from scipy.linalg import svd\n",
        "l1=[[10,20],[40,50],[70,80]]\n",
        "x=np.array(l1).reshape(3,2)\n",
        "print(x)\n",
        "print(\"\\n\")\n",
        "u,s,vt=svd(x)\n",
        "print(u)\n",
        "print(\"\\n\")\n",
        "print(s)\n",
        "print(\"\\n\")\n",
        "print(vt)\n",
        "\n"
      ],
      "execution_count": 22,
      "outputs": [
        {
          "output_type": "stream",
          "name": "stdout",
          "text": [
            "[[10 20]\n",
            " [40 50]\n",
            " [70 80]]\n",
            "\n",
            "\n",
            "[[-0.17259857  0.89640564  0.40824829]\n",
            " [-0.50818671  0.27400657 -0.81649658]\n",
            " [-0.84377485 -0.3483925   0.40824829]]\n",
            "\n",
            "\n",
            "[125.96017181   5.83396253]\n",
            "\n",
            "\n",
            "[[-0.64399479 -0.76502988]\n",
            " [-0.76502988  0.64399479]]\n"
          ]
        }
      ]
    },
    {
      "cell_type": "code",
      "metadata": {
        "colab": {
          "base_uri": "https://localhost:8080/"
        },
        "id": "iOcyUu-An2o_",
        "outputId": "43258d9a-3a16-468d-f042-819fd4f0cbdf"
      },
      "source": [
        "u,s,vt=svd(x,full_matrices=True)\n",
        "print(u)\n",
        "print(\"\\n\")\n",
        "print(s)\n",
        "print(\"\\n\")\n",
        "print(vt)"
      ],
      "execution_count": 23,
      "outputs": [
        {
          "output_type": "stream",
          "name": "stdout",
          "text": [
            "[[-0.17259857  0.89640564  0.40824829]\n",
            " [-0.50818671  0.27400657 -0.81649658]\n",
            " [-0.84377485 -0.3483925   0.40824829]]\n",
            "\n",
            "\n",
            "[125.96017181   5.83396253]\n",
            "\n",
            "\n",
            "[[-0.64399479 -0.76502988]\n",
            " [-0.76502988  0.64399479]]\n"
          ]
        }
      ]
    },
    {
      "cell_type": "code",
      "metadata": {
        "colab": {
          "base_uri": "https://localhost:8080/"
        },
        "id": "1BpiXpgmpzKT",
        "outputId": "d3ad687b-6225-4a4c-ecd8-ad27510f6591"
      },
      "source": [
        "u,s,vt=svd(x,full_matrices=False)\n",
        "print(u)\n",
        "print(\"\\n\")\n",
        "print(s)\n",
        "print(\"\\n\")\n",
        "print(vt)"
      ],
      "execution_count": 24,
      "outputs": [
        {
          "output_type": "stream",
          "name": "stdout",
          "text": [
            "[[-0.17259857  0.89640564]\n",
            " [-0.50818671  0.27400657]\n",
            " [-0.84377485 -0.3483925 ]]\n",
            "\n",
            "\n",
            "[125.96017181   5.83396253]\n",
            "\n",
            "\n",
            "[[-0.64399479 -0.76502988]\n",
            " [-0.76502988  0.64399479]]\n"
          ]
        }
      ]
    },
    {
      "cell_type": "code",
      "metadata": {
        "colab": {
          "base_uri": "https://localhost:8080/"
        },
        "id": "QehZSziGp6XV",
        "outputId": "71893529-5b9d-45c8-874c-bf394697c1cc"
      },
      "source": [
        "# Return the original matrix X\n",
        "# @ is used for matrix multiplication in Py3, use np.matmul with Py2\n",
        "Y=(u @ np.diag(s) @ vt)\n",
        "Y "
      ],
      "execution_count": 25,
      "outputs": [
        {
          "output_type": "execute_result",
          "data": {
            "text/plain": [
              "array([[10., 20.],\n",
              "       [40., 50.],\n",
              "       [70., 80.]])"
            ]
          },
          "metadata": {},
          "execution_count": 25
        }
      ]
    }
  ]
}