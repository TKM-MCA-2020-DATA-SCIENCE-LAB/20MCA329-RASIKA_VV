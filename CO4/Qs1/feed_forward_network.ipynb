{
  "nbformat": 4,
  "nbformat_minor": 0,
  "metadata": {
    "colab": {
      "name": "feed_forward_network.ipynb",
      "provenance": [],
      "collapsed_sections": []
    },
    "kernelspec": {
      "name": "python3",
      "display_name": "Python 3"
    },
    "language_info": {
      "name": "python"
    }
  },
  "cells": [
    {
      "cell_type": "code",
      "execution_count": null,
      "metadata": {
        "id": "T2RsdTAxhxRx"
      },
      "outputs": [],
      "source": [
        "import keras"
      ]
    },
    {
      "cell_type": "code",
      "source": [
        "from keras.datasets import mnist #Mnist data set from keras"
      ],
      "metadata": {
        "id": "Xwz4gNRzjlLw"
      },
      "execution_count": null,
      "outputs": []
    },
    {
      "cell_type": "code",
      "source": [
        "from keras.models import Sequential  #Sequential model"
      ],
      "metadata": {
        "id": "mC3a9jhxjzbv"
      },
      "execution_count": null,
      "outputs": []
    },
    {
      "cell_type": "code",
      "source": [
        "from keras.layers import Dense #Dense network"
      ],
      "metadata": {
        "id": "exhtoui1kNcI"
      },
      "execution_count": null,
      "outputs": []
    },
    {
      "cell_type": "code",
      "source": [
        "from tensorflow.keras.optimizers import SGD"
      ],
      "metadata": {
        "id": "PDi5Sal2j9W4"
      },
      "execution_count": null,
      "outputs": []
    },
    {
      "cell_type": "code",
      "source": [
        "from matplotlib import pyplot as pyplot"
      ],
      "metadata": {
        "id": "CFndRuGskEjn"
      },
      "execution_count": null,
      "outputs": []
    },
    {
      "cell_type": "code",
      "source": [
        "from matplotlib import pyplot as plt"
      ],
      "metadata": {
        "id": "PBxAPLmwmyxY"
      },
      "execution_count": null,
      "outputs": []
    },
    {
      "cell_type": "code",
      "source": [
        "(X_train,Y_train),(x_valid,y_valid)=mnist.load_data()"
      ],
      "metadata": {
        "id": "ezjCmjjElUNA",
        "colab": {
          "base_uri": "https://localhost:8080/"
        },
        "outputId": "bd245e7c-c7a1-4f69-a320-af18866f2f3f"
      },
      "execution_count": null,
      "outputs": [
        {
          "output_type": "stream",
          "name": "stdout",
          "text": [
            "Downloading data from https://storage.googleapis.com/tensorflow/tf-keras-datasets/mnist.npz\n",
            "11493376/11490434 [==============================] - 0s 0us/step\n",
            "11501568/11490434 [==============================] - 0s 0us/step\n"
          ]
        }
      ]
    },
    {
      "cell_type": "code",
      "source": [
        "type(X_train)"
      ],
      "metadata": {
        "colab": {
          "base_uri": "https://localhost:8080/"
        },
        "id": "BMSqB-VKkoOn",
        "outputId": "e4117a11-5f89-406f-ba09-795f06c29ba1"
      },
      "execution_count": null,
      "outputs": [
        {
          "output_type": "execute_result",
          "data": {
            "text/plain": [
              "numpy.ndarray"
            ]
          },
          "metadata": {},
          "execution_count": 9
        }
      ]
    },
    {
      "cell_type": "code",
      "source": [
        "type(Y_train)"
      ],
      "metadata": {
        "colab": {
          "base_uri": "https://localhost:8080/"
        },
        "id": "tgnSBK1fmC9A",
        "outputId": "cfa356fb-9244-4b25-ba42-634ae18d6b90"
      },
      "execution_count": null,
      "outputs": [
        {
          "output_type": "execute_result",
          "data": {
            "text/plain": [
              "numpy.ndarray"
            ]
          },
          "metadata": {},
          "execution_count": 10
        }
      ]
    },
    {
      "cell_type": "code",
      "source": [
        "plt.figure(figsize=(5,5))\n",
        "for k in range(20):\n",
        "  plt.subplot(10,2,k+1)\n",
        "  plt.imshow(X_train[k],cmap='Greys')\n",
        "  plt.axis('off')"
      ],
      "metadata": {
        "colab": {
          "base_uri": "https://localhost:8080/",
          "height": 303
        },
        "id": "Fusiyn03mFzP",
        "outputId": "2ab847a1-d6d6-40ee-991a-167197160ff9"
      },
      "execution_count": null,
      "outputs": [
        {
          "output_type": "display_data",
          "data": {
            "image/png": "[encoded data removed]",
            "text/plain": [
              "<Figure size 360x360 with 20 Axes>"
            ]
          },
          "metadata": {
            "needs_background": "light"
          }
        }
      ]
    },
    {
      "cell_type": "code",
      "source": [
        "x_valid.shape"
      ],
      "metadata": {
        "colab": {
          "base_uri": "https://localhost:8080/"
        },
        "id": "DgIM81i-m8ag",
        "outputId": "3b2e3984-1038-475d-92b9-b6abe95962e1"
      },
      "execution_count": null,
      "outputs": [
        {
          "output_type": "execute_result",
          "data": {
            "text/plain": [
              "(10000, 28, 28)"
            ]
          },
          "metadata": {},
          "execution_count": 12
        }
      ]
    },
    {
      "cell_type": "code",
      "source": [
        "plt.imshow(x_valid[3],cmap='Greys')"
      ],
      "metadata": {
        "colab": {
          "base_uri": "https://localhost:8080/",
          "height": 282
        },
        "id": "a8-mrPuDnBvP",
        "outputId": "c7d408f4-09c4-49a7-9634-c5d5bdd55af9"
      },
      "execution_count": null,
      "outputs": [
        {
          "output_type": "execute_result",
          "data": {
            "text/plain": [
              "<matplotlib.image.AxesImage at 0x7fdfd73eced0>"
            ]
          },
          "metadata": {},
          "execution_count": 13
        },
        {
          "output_type": "display_data",
          "data": {
            "image/png": "[encoded data removed]",
            "text/plain": [
              "<Figure size 432x288 with 1 Axes>"
            ]
          },
          "metadata": {
            "needs_background": "light"
          }
        }
      ]
    },
    {
      "cell_type": "code",
      "source": [
        "x_valid[3]"
      ],
      "metadata": {
        "colab": {
          "base_uri": "https://localhost:8080/"
        },
        "id": "Vsw2ptYdnOCh",
        "outputId": "6a77fc60-92a0-46d9-9c7d-28514b2d9945"
      },
      "execution_count": null,
      "outputs": [
        {
          "output_type": "execute_result",
          "data": {
            "text/plain": [
              "array([[  0,   0,   0,   0,   0,   0,   0,   0,   0,   0,   0,   0,   0,\n",
              "          0,   0,   0,   0,   0,   0,   0,   0,   0,   0,   0,   0,   0,\n",
              "          0,   0],\n",
              "       [  0,   0,   0,   0,   0,   0,   0,   0,   0,   0,   0,   0,   0,\n",
              "          0,   0,   0,   0,   0,   0,   0,   0,   0,   0,   0,   0,   0,\n",
              "          0,   0],\n",
              "       [  0,   0,   0,   0,   0,   0,   0,   0,   0,   0,   0,   0,   0,\n",
              "          0,   0,   0,   0,   0,   0,   0,   0,   0,   0,   0,   0,   0,\n",
              "          0,   0],\n",
              "       [  0,   0,   0,   0,   0,   0,   0,   0,   0,   0,   0,   0,   0,\n",
              "          0,   0,   0,   0,   0,   0,   0,   0,   0,   0,   0,   0,   0,\n",
              "          0,   0],\n",
              "       [  0,   0,   0,   0,   0,   0,   0,   0,   0,   0,   0,   0,  11,\n",
              "        150, 253, 202,  31,   0,   0,   0,   0,   0,   0,   0,   0,   0,\n",
              "          0,   0],\n",
              "       [  0,   0,   0,   0,   0,   0,   0,   0,   0,   0,   0,   0,  37,\n",
              "        251, 251, 253, 107,   0,   0,   0,   0,   0,   0,   0,   0,   0,\n",
              "          0,   0],\n",
              "       [  0,   0,   0,   0,   0,   0,   0,   0,   0,   0,   0,  21, 197,\n",
              "        251, 251, 253, 107,   0,   0,   0,   0,   0,   0,   0,   0,   0,\n",
              "          0,   0],\n",
              "       [  0,   0,   0,   0,   0,   0,   0,   0,   0,   0, 110, 190, 251,\n",
              "        251, 251, 253, 169, 109,  62,   0,   0,   0,   0,   0,   0,   0,\n",
              "          0,   0],\n",
              "       [  0,   0,   0,   0,   0,   0,   0,   0,   0,   0, 253, 251, 251,\n",
              "        251, 251, 253, 251, 251, 220,  51,   0,   0,   0,   0,   0,   0,\n",
              "          0,   0],\n",
              "       [  0,   0,   0,   0,   0,   0,   0,   0,   0, 182, 255, 253, 253,\n",
              "        253, 253, 234, 222, 253, 253, 253,   0,   0,   0,   0,   0,   0,\n",
              "          0,   0],\n",
              "       [  0,   0,   0,   0,   0,   0,   0,   0,  63, 221, 253, 251, 251,\n",
              "        251, 147,  77,  62, 128, 251, 251, 105,   0,   0,   0,   0,   0,\n",
              "          0,   0],\n",
              "       [  0,   0,   0,   0,   0,   0,   0,  32, 231, 251, 253, 251, 220,\n",
              "        137,  10,   0,   0,  31, 230, 251, 243, 113,   5,   0,   0,   0,\n",
              "          0,   0],\n",
              "       [  0,   0,   0,   0,   0,   0,   0,  37, 251, 251, 253, 188,  20,\n",
              "          0,   0,   0,   0,   0, 109, 251, 253, 251,  35,   0,   0,   0,\n",
              "          0,   0],\n",
              "       [  0,   0,   0,   0,   0,   0,   0,  37, 251, 251, 201,  30,   0,\n",
              "          0,   0,   0,   0,   0,  31, 200, 253, 251,  35,   0,   0,   0,\n",
              "          0,   0],\n",
              "       [  0,   0,   0,   0,   0,   0,   0,  37, 253, 253,   0,   0,   0,\n",
              "          0,   0,   0,   0,   0,  32, 202, 255, 253, 164,   0,   0,   0,\n",
              "          0,   0],\n",
              "       [  0,   0,   0,   0,   0,   0,   0, 140, 251, 251,   0,   0,   0,\n",
              "          0,   0,   0,   0,   0, 109, 251, 253, 251,  35,   0,   0,   0,\n",
              "          0,   0],\n",
              "       [  0,   0,   0,   0,   0,   0,   0, 217, 251, 251,   0,   0,   0,\n",
              "          0,   0,   0,  21,  63, 231, 251, 253, 230,  30,   0,   0,   0,\n",
              "          0,   0],\n",
              "       [  0,   0,   0,   0,   0,   0,   0, 217, 251, 251,   0,   0,   0,\n",
              "          0,   0,   0, 144, 251, 251, 251, 221,  61,   0,   0,   0,   0,\n",
              "          0,   0],\n",
              "       [  0,   0,   0,   0,   0,   0,   0, 217, 251, 251,   0,   0,   0,\n",
              "          0,   0, 182, 221, 251, 251, 251, 180,   0,   0,   0,   0,   0,\n",
              "          0,   0],\n",
              "       [  0,   0,   0,   0,   0,   0,   0, 218, 253, 253,  73,  73, 228,\n",
              "        253, 253, 255, 253, 253, 253, 253,   0,   0,   0,   0,   0,   0,\n",
              "          0,   0],\n",
              "       [  0,   0,   0,   0,   0,   0,   0, 113, 251, 251, 253, 251, 251,\n",
              "        251, 251, 253, 251, 251, 251, 147,   0,   0,   0,   0,   0,   0,\n",
              "          0,   0],\n",
              "       [  0,   0,   0,   0,   0,   0,   0,  31, 230, 251, 253, 251, 251,\n",
              "        251, 251, 253, 230, 189,  35,  10,   0,   0,   0,   0,   0,   0,\n",
              "          0,   0],\n",
              "       [  0,   0,   0,   0,   0,   0,   0,   0,  62, 142, 253, 251, 251,\n",
              "        251, 251, 253, 107,   0,   0,   0,   0,   0,   0,   0,   0,   0,\n",
              "          0,   0],\n",
              "       [  0,   0,   0,   0,   0,   0,   0,   0,   0,   0,  72, 174, 251,\n",
              "        173,  71,  72,  30,   0,   0,   0,   0,   0,   0,   0,   0,   0,\n",
              "          0,   0],\n",
              "       [  0,   0,   0,   0,   0,   0,   0,   0,   0,   0,   0,   0,   0,\n",
              "          0,   0,   0,   0,   0,   0,   0,   0,   0,   0,   0,   0,   0,\n",
              "          0,   0],\n",
              "       [  0,   0,   0,   0,   0,   0,   0,   0,   0,   0,   0,   0,   0,\n",
              "          0,   0,   0,   0,   0,   0,   0,   0,   0,   0,   0,   0,   0,\n",
              "          0,   0],\n",
              "       [  0,   0,   0,   0,   0,   0,   0,   0,   0,   0,   0,   0,   0,\n",
              "          0,   0,   0,   0,   0,   0,   0,   0,   0,   0,   0,   0,   0,\n",
              "          0,   0],\n",
              "       [  0,   0,   0,   0,   0,   0,   0,   0,   0,   0,   0,   0,   0,\n",
              "          0,   0,   0,   0,   0,   0,   0,   0,   0,   0,   0,   0,   0,\n",
              "          0,   0]], dtype=uint8)"
            ]
          },
          "metadata": {},
          "execution_count": 14
        }
      ]
    },
    {
      "cell_type": "code",
      "source": [
        "y_valid[3]"
      ],
      "metadata": {
        "colab": {
          "base_uri": "https://localhost:8080/"
        },
        "id": "Ia3bsXTunSzZ",
        "outputId": "ed40e4b8-9b39-473e-ca66-f271c6df8fe2"
      },
      "execution_count": null,
      "outputs": [
        {
          "output_type": "execute_result",
          "data": {
            "text/plain": [
              "0"
            ]
          },
          "metadata": {},
          "execution_count": 15
        }
      ]
    },
    {
      "cell_type": "code",
      "source": [
        "X_train=X_train.reshape(60000,784).astype('float32')\n",
        "x_valid=x_valid.reshape(10000,784).astype('float32')"
      ],
      "metadata": {
        "id": "t-oK7kiAno5n"
      },
      "execution_count": null,
      "outputs": []
    },
    {
      "cell_type": "code",
      "source": [
        "X_train/=255\n",
        "x_valid/=255"
      ],
      "metadata": {
        "id": "lVIFwxM_pl4Y"
      },
      "execution_count": null,
      "outputs": []
    },
    {
      "cell_type": "code",
      "source": [
        "x_valid[3]"
      ],
      "metadata": {
        "colab": {
          "base_uri": "https://localhost:8080/"
        },
        "id": "GcQrFnDIqEig",
        "outputId": "dc22411e-8a6e-4309-df21-e212dbb7ce15"
      },
      "execution_count": null,
      "outputs": [
        {
          "output_type": "execute_result",
          "data": {
            "text/plain": [
              "array([0.        , 0.        , 0.        , 0.        , 0.        ,\n",
              "       0.        , 0.        , 0.        , 0.        , 0.        ,\n",
              "       0.        , 0.        , 0.        , 0.        , 0.        ,\n",
              "       0.        , 0.        , 0.        , 0.        , 0.        ,\n",
              "       0.        , 0.        , 0.        , 0.        , 0.        ,\n",
              "       0.        , 0.        , 0.        , 0.        , 0.        ,\n",
              "       0.        , 0.        , 0.        , 0.        , 0.        ,\n",
              "       0.        , 0.        , 0.        , 0.        , 0.        ,\n",
              "       0.        , 0.        , 0.        , 0.        , 0.        ,\n",
              "       0.        , 0.        , 0.        , 0.        , 0.        ,\n",
              "       0.        , 0.        , 0.        , 0.        , 0.        ,\n",
              "       0.        , 0.        , 0.        , 0.        , 0.        ,\n",
              "       0.        , 0.        , 0.        , 0.        , 0.        ,\n",
              "       0.        , 0.        , 0.        , 0.        , 0.        ,\n",
              "       0.        , 0.        , 0.        , 0.        , 0.        ,\n",
              "       0.        , 0.        , 0.        , 0.        , 0.        ,\n",
              "       0.        , 0.        , 0.        , 0.        , 0.        ,\n",
              "       0.        , 0.        , 0.        , 0.        , 0.        ,\n",
              "       0.        , 0.        , 0.        , 0.        , 0.        ,\n",
              "       0.        , 0.        , 0.        , 0.        , 0.        ,\n",
              "       0.        , 0.        , 0.        , 0.        , 0.        ,\n",
              "       0.        , 0.        , 0.        , 0.        , 0.        ,\n",
              "       0.        , 0.        , 0.        , 0.        , 0.        ,\n",
              "       0.        , 0.        , 0.        , 0.        , 0.        ,\n",
              "       0.        , 0.        , 0.        , 0.        , 0.04313726,\n",
              "       0.5882353 , 0.99215686, 0.7921569 , 0.12156863, 0.        ,\n",
              "       0.        , 0.        , 0.        , 0.        , 0.        ,\n",
              "       0.        , 0.        , 0.        , 0.        , 0.        ,\n",
              "       0.        , 0.        , 0.        , 0.        , 0.        ,\n",
              "       0.        , 0.        , 0.        , 0.        , 0.        ,\n",
              "       0.        , 0.        , 0.14509805, 0.9843137 , 0.9843137 ,\n",
              "       0.99215686, 0.41960785, 0.        , 0.        , 0.        ,\n",
              "       0.        , 0.        , 0.        , 0.        , 0.        ,\n",
              "       0.        , 0.        , 0.        , 0.        , 0.        ,\n",
              "       0.        , 0.        , 0.        , 0.        , 0.        ,\n",
              "       0.        , 0.        , 0.        , 0.        , 0.08235294,\n",
              "       0.77254903, 0.9843137 , 0.9843137 , 0.99215686, 0.41960785,\n",
              "       0.        , 0.        , 0.        , 0.        , 0.        ,\n",
              "       0.        , 0.        , 0.        , 0.        , 0.        ,\n",
              "       0.        , 0.        , 0.        , 0.        , 0.        ,\n",
              "       0.        , 0.        , 0.        , 0.        , 0.        ,\n",
              "       0.        , 0.43137255, 0.74509805, 0.9843137 , 0.9843137 ,\n",
              "       0.9843137 , 0.99215686, 0.6627451 , 0.42745098, 0.24313726,\n",
              "       0.        , 0.        , 0.        , 0.        , 0.        ,\n",
              "       0.        , 0.        , 0.        , 0.        , 0.        ,\n",
              "       0.        , 0.        , 0.        , 0.        , 0.        ,\n",
              "       0.        , 0.        , 0.        , 0.        , 0.99215686,\n",
              "       0.9843137 , 0.9843137 , 0.9843137 , 0.9843137 , 0.99215686,\n",
              "       0.9843137 , 0.9843137 , 0.8627451 , 0.2       , 0.        ,\n",
              "       0.        , 0.        , 0.        , 0.        , 0.        ,\n",
              "       0.        , 0.        , 0.        , 0.        , 0.        ,\n",
              "       0.        , 0.        , 0.        , 0.        , 0.        ,\n",
              "       0.        , 0.7137255 , 1.        , 0.99215686, 0.99215686,\n",
              "       0.99215686, 0.99215686, 0.91764706, 0.87058824, 0.99215686,\n",
              "       0.99215686, 0.99215686, 0.        , 0.        , 0.        ,\n",
              "       0.        , 0.        , 0.        , 0.        , 0.        ,\n",
              "       0.        , 0.        , 0.        , 0.        , 0.        ,\n",
              "       0.        , 0.        , 0.        , 0.24705882, 0.8666667 ,\n",
              "       0.99215686, 0.9843137 , 0.9843137 , 0.9843137 , 0.5764706 ,\n",
              "       0.3019608 , 0.24313726, 0.5019608 , 0.9843137 , 0.9843137 ,\n",
              "       0.4117647 , 0.        , 0.        , 0.        , 0.        ,\n",
              "       0.        , 0.        , 0.        , 0.        , 0.        ,\n",
              "       0.        , 0.        , 0.        , 0.        , 0.        ,\n",
              "       0.1254902 , 0.90588236, 0.9843137 , 0.99215686, 0.9843137 ,\n",
              "       0.8627451 , 0.5372549 , 0.03921569, 0.        , 0.        ,\n",
              "       0.12156863, 0.9019608 , 0.9843137 , 0.9529412 , 0.44313726,\n",
              "       0.01960784, 0.        , 0.        , 0.        , 0.        ,\n",
              "       0.        , 0.        , 0.        , 0.        , 0.        ,\n",
              "       0.        , 0.        , 0.        , 0.14509805, 0.9843137 ,\n",
              "       0.9843137 , 0.99215686, 0.7372549 , 0.07843138, 0.        ,\n",
              "       0.        , 0.        , 0.        , 0.        , 0.42745098,\n",
              "       0.9843137 , 0.99215686, 0.9843137 , 0.13725491, 0.        ,\n",
              "       0.        , 0.        , 0.        , 0.        , 0.        ,\n",
              "       0.        , 0.        , 0.        , 0.        , 0.        ,\n",
              "       0.        , 0.14509805, 0.9843137 , 0.9843137 , 0.7882353 ,\n",
              "       0.11764706, 0.        , 0.        , 0.        , 0.        ,\n",
              "       0.        , 0.        , 0.12156863, 0.78431374, 0.99215686,\n",
              "       0.9843137 , 0.13725491, 0.        , 0.        , 0.        ,\n",
              "       0.        , 0.        , 0.        , 0.        , 0.        ,\n",
              "       0.        , 0.        , 0.        , 0.        , 0.14509805,\n",
              "       0.99215686, 0.99215686, 0.        , 0.        , 0.        ,\n",
              "       0.        , 0.        , 0.        , 0.        , 0.        ,\n",
              "       0.1254902 , 0.7921569 , 1.        , 0.99215686, 0.6431373 ,\n",
              "       0.        , 0.        , 0.        , 0.        , 0.        ,\n",
              "       0.        , 0.        , 0.        , 0.        , 0.        ,\n",
              "       0.        , 0.        , 0.54901963, 0.9843137 , 0.9843137 ,\n",
              "       0.        , 0.        , 0.        , 0.        , 0.        ,\n",
              "       0.        , 0.        , 0.        , 0.42745098, 0.9843137 ,\n",
              "       0.99215686, 0.9843137 , 0.13725491, 0.        , 0.        ,\n",
              "       0.        , 0.        , 0.        , 0.        , 0.        ,\n",
              "       0.        , 0.        , 0.        , 0.        , 0.        ,\n",
              "       0.8509804 , 0.9843137 , 0.9843137 , 0.        , 0.        ,\n",
              "       0.        , 0.        , 0.        , 0.        , 0.08235294,\n",
              "       0.24705882, 0.90588236, 0.9843137 , 0.99215686, 0.9019608 ,\n",
              "       0.11764706, 0.        , 0.        , 0.        , 0.        ,\n",
              "       0.        , 0.        , 0.        , 0.        , 0.        ,\n",
              "       0.        , 0.        , 0.        , 0.8509804 , 0.9843137 ,\n",
              "       0.9843137 , 0.        , 0.        , 0.        , 0.        ,\n",
              "       0.        , 0.        , 0.5647059 , 0.9843137 , 0.9843137 ,\n",
              "       0.9843137 , 0.8666667 , 0.23921569, 0.        , 0.        ,\n",
              "       0.        , 0.        , 0.        , 0.        , 0.        ,\n",
              "       0.        , 0.        , 0.        , 0.        , 0.        ,\n",
              "       0.        , 0.8509804 , 0.9843137 , 0.9843137 , 0.        ,\n",
              "       0.        , 0.        , 0.        , 0.        , 0.7137255 ,\n",
              "       0.8666667 , 0.9843137 , 0.9843137 , 0.9843137 , 0.7058824 ,\n",
              "       0.        , 0.        , 0.        , 0.        , 0.        ,\n",
              "       0.        , 0.        , 0.        , 0.        , 0.        ,\n",
              "       0.        , 0.        , 0.        , 0.        , 0.85490197,\n",
              "       0.99215686, 0.99215686, 0.28627452, 0.28627452, 0.89411765,\n",
              "       0.99215686, 0.99215686, 1.        , 0.99215686, 0.99215686,\n",
              "       0.99215686, 0.99215686, 0.        , 0.        , 0.        ,\n",
              "       0.        , 0.        , 0.        , 0.        , 0.        ,\n",
              "       0.        , 0.        , 0.        , 0.        , 0.        ,\n",
              "       0.        , 0.        , 0.44313726, 0.9843137 , 0.9843137 ,\n",
              "       0.99215686, 0.9843137 , 0.9843137 , 0.9843137 , 0.9843137 ,\n",
              "       0.99215686, 0.9843137 , 0.9843137 , 0.9843137 , 0.5764706 ,\n",
              "       0.        , 0.        , 0.        , 0.        , 0.        ,\n",
              "       0.        , 0.        , 0.        , 0.        , 0.        ,\n",
              "       0.        , 0.        , 0.        , 0.        , 0.        ,\n",
              "       0.12156863, 0.9019608 , 0.9843137 , 0.99215686, 0.9843137 ,\n",
              "       0.9843137 , 0.9843137 , 0.9843137 , 0.99215686, 0.9019608 ,\n",
              "       0.7411765 , 0.13725491, 0.03921569, 0.        , 0.        ,\n",
              "       0.        , 0.        , 0.        , 0.        , 0.        ,\n",
              "       0.        , 0.        , 0.        , 0.        , 0.        ,\n",
              "       0.        , 0.        , 0.        , 0.        , 0.24313726,\n",
              "       0.5568628 , 0.99215686, 0.9843137 , 0.9843137 , 0.9843137 ,\n",
              "       0.9843137 , 0.99215686, 0.41960785, 0.        , 0.        ,\n",
              "       0.        , 0.        , 0.        , 0.        , 0.        ,\n",
              "       0.        , 0.        , 0.        , 0.        , 0.        ,\n",
              "       0.        , 0.        , 0.        , 0.        , 0.        ,\n",
              "       0.        , 0.        , 0.        , 0.        , 0.28235295,\n",
              "       0.68235296, 0.9843137 , 0.6784314 , 0.2784314 , 0.28235295,\n",
              "       0.11764706, 0.        , 0.        , 0.        , 0.        ,\n",
              "       0.        , 0.        , 0.        , 0.        , 0.        ,\n",
              "       0.        , 0.        , 0.        , 0.        , 0.        ,\n",
              "       0.        , 0.        , 0.        , 0.        , 0.        ,\n",
              "       0.        , 0.        , 0.        , 0.        , 0.        ,\n",
              "       0.        , 0.        , 0.        , 0.        , 0.        ,\n",
              "       0.        , 0.        , 0.        , 0.        , 0.        ,\n",
              "       0.        , 0.        , 0.        , 0.        , 0.        ,\n",
              "       0.        , 0.        , 0.        , 0.        , 0.        ,\n",
              "       0.        , 0.        , 0.        , 0.        , 0.        ,\n",
              "       0.        , 0.        , 0.        , 0.        , 0.        ,\n",
              "       0.        , 0.        , 0.        , 0.        , 0.        ,\n",
              "       0.        , 0.        , 0.        , 0.        , 0.        ,\n",
              "       0.        , 0.        , 0.        , 0.        , 0.        ,\n",
              "       0.        , 0.        , 0.        , 0.        , 0.        ,\n",
              "       0.        , 0.        , 0.        , 0.        , 0.        ,\n",
              "       0.        , 0.        , 0.        , 0.        , 0.        ,\n",
              "       0.        , 0.        , 0.        , 0.        , 0.        ,\n",
              "       0.        , 0.        , 0.        , 0.        , 0.        ,\n",
              "       0.        , 0.        , 0.        , 0.        , 0.        ,\n",
              "       0.        , 0.        , 0.        , 0.        , 0.        ,\n",
              "       0.        , 0.        , 0.        , 0.        , 0.        ,\n",
              "       0.        , 0.        , 0.        , 0.        , 0.        ,\n",
              "       0.        , 0.        , 0.        , 0.        , 0.        ,\n",
              "       0.        , 0.        , 0.        , 0.        ], dtype=float32)"
            ]
          },
          "metadata": {},
          "execution_count": 18
        }
      ]
    },
    {
      "cell_type": "code",
      "source": [
        "y_valid[0]"
      ],
      "metadata": {
        "colab": {
          "base_uri": "https://localhost:8080/"
        },
        "id": "n6JUEk-aqOi5",
        "outputId": "ec1e05c1-9b89-42b7-c90a-8d65ef9bd559"
      },
      "execution_count": null,
      "outputs": [
        {
          "output_type": "execute_result",
          "data": {
            "text/plain": [
              "7"
            ]
          },
          "metadata": {},
          "execution_count": 19
        }
      ]
    },
    {
      "cell_type": "code",
      "source": [
        "from keras import utils as np_utils\n",
        "\n",
        "n_classes=10\n",
        "\n",
        "Y_train=keras.utils.np_utils.to_categorical(Y_train,n_classes)\n",
        "y_valid=keras.utils.np_utils.to_categorical(y_valid,n_classes)\n"
      ],
      "metadata": {
        "id": "5FfmyM9Ioy34"
      },
      "execution_count": null,
      "outputs": []
    },
    {
      "cell_type": "code",
      "source": [
        "y_valid[3]"
      ],
      "metadata": {
        "colab": {
          "base_uri": "https://localhost:8080/"
        },
        "id": "DyuRtbiAsVXp",
        "outputId": "31b86a77-de7e-45d1-b219-019ac194f45a"
      },
      "execution_count": null,
      "outputs": [
        {
          "output_type": "execute_result",
          "data": {
            "text/plain": [
              "array([1., 0., 0., 0., 0., 0., 0., 0., 0., 0.], dtype=float32)"
            ]
          },
          "metadata": {},
          "execution_count": 21
        }
      ]
    },
    {
      "cell_type": "code",
      "source": [
        "y_valid[8]"
      ],
      "metadata": {
        "colab": {
          "base_uri": "https://localhost:8080/"
        },
        "id": "RSM5yEj8tqXB",
        "outputId": "81c067ce-07fa-405e-c2fe-7d004ee3f412"
      },
      "execution_count": null,
      "outputs": [
        {
          "output_type": "execute_result",
          "data": {
            "text/plain": [
              "array([0., 0., 0., 0., 0., 1., 0., 0., 0., 0.], dtype=float32)"
            ]
          },
          "metadata": {},
          "execution_count": 22
        }
      ]
    },
    {
      "cell_type": "code",
      "source": [
        "y_valid[1]"
      ],
      "metadata": {
        "colab": {
          "base_uri": "https://localhost:8080/"
        },
        "id": "aqqMXorStzFx",
        "outputId": "1c75de2d-e309-4ce5-af0f-14855d9ce739"
      },
      "execution_count": null,
      "outputs": [
        {
          "output_type": "execute_result",
          "data": {
            "text/plain": [
              "array([0., 0., 1., 0., 0., 0., 0., 0., 0., 0.], dtype=float32)"
            ]
          },
          "metadata": {},
          "execution_count": 23
        }
      ]
    },
    {
      "cell_type": "markdown",
      "source": [
        "Create **model**"
      ],
      "metadata": {
        "id": "50GTEd_71NIS"
      }
    },
    {
      "cell_type": "code",
      "source": [
        "model=Sequential()"
      ],
      "metadata": {
        "id": "hfoGuaB51Pqi"
      },
      "execution_count": null,
      "outputs": []
    },
    {
      "cell_type": "code",
      "source": [
        "model.add(Dense(64, activation='sigmoid',input_shape=(784,)))"
      ],
      "metadata": {
        "id": "i1jhTSo01TMB"
      },
      "execution_count": null,
      "outputs": []
    },
    {
      "cell_type": "code",
      "source": [
        "model.add(Dense(10,activation='softmax'))"
      ],
      "metadata": {
        "id": "OJRwx4hx6hcz"
      },
      "execution_count": null,
      "outputs": []
    },
    {
      "cell_type": "code",
      "source": [
        "model.summary()"
      ],
      "metadata": {
        "colab": {
          "base_uri": "https://localhost:8080/"
        },
        "id": "cQG17_of1vGD",
        "outputId": "e0668b1f-7953-40f3-b860-4e2ef7e2ba11"
      },
      "execution_count": null,
      "outputs": [
        {
          "output_type": "stream",
          "name": "stdout",
          "text": [
            "Model: \"sequential\"\n",
            "_________________________________________________________________\n",
            " Layer (type)                Output Shape              Param #   \n",
            "=================================================================\n",
            " dense (Dense)               (None, 64)                50240     \n",
            "                                                                 \n",
            " dense_1 (Dense)             (None, 10)                650       \n",
            "                                                                 \n",
            "=================================================================\n",
            "Total params: 50,890\n",
            "Trainable params: 50,890\n",
            "Non-trainable params: 0\n",
            "_________________________________________________________________\n"
          ]
        }
      ]
    },
    {
      "cell_type": "code",
      "source": [
        "(64*784) "
      ],
      "metadata": {
        "colab": {
          "base_uri": "https://localhost:8080/"
        },
        "id": "MNqKVrqd157K",
        "outputId": "30a92be1-c38f-4478-a449-7055d1cb096a"
      },
      "execution_count": null,
      "outputs": [
        {
          "output_type": "execute_result",
          "data": {
            "text/plain": [
              "50176"
            ]
          },
          "metadata": {},
          "execution_count": 28
        }
      ]
    },
    {
      "cell_type": "code",
      "source": [
        "(64*784)+64"
      ],
      "metadata": {
        "colab": {
          "base_uri": "https://localhost:8080/"
        },
        "id": "fX5kkKr41-v6",
        "outputId": "d2242579-d9eb-436a-f6f6-17851b53be4a"
      },
      "execution_count": null,
      "outputs": [
        {
          "output_type": "execute_result",
          "data": {
            "text/plain": [
              "50240"
            ]
          },
          "metadata": {},
          "execution_count": 29
        }
      ]
    },
    {
      "cell_type": "code",
      "source": [
        "(1064)+10+(64784)+64"
      ],
      "metadata": {
        "colab": {
          "base_uri": "https://localhost:8080/"
        },
        "id": "W9wHb_tv71TM",
        "outputId": "32ecc861-5a80-428a-f045-588c896f7d31"
      },
      "execution_count": null,
      "outputs": [
        {
          "output_type": "execute_result",
          "data": {
            "text/plain": [
              "65922"
            ]
          },
          "metadata": {},
          "execution_count": 30
        }
      ]
    },
    {
      "cell_type": "code",
      "source": [
        "#Compile the network\n",
        "model.compile(loss='mean_squared_error',optimizer=SGD(learning_rate=0.01),metrics=['accuracy'])\n"
      ],
      "metadata": {
        "id": "RxbIEud32JTK"
      },
      "execution_count": null,
      "outputs": []
    },
    {
      "cell_type": "code",
      "source": [
        "history=model.fit(X_train,Y_train,batch_size=128,epochs=75,verbose=1)"
      ],
      "metadata": {
        "colab": {
          "base_uri": "https://localhost:8080/"
        },
        "id": "RAIr3Sx65xFL",
        "outputId": "55236cbf-24c1-44e1-8f0e-3357c26610d0"
      },
      "execution_count": null,
      "outputs": [
        {
          "output_type": "stream",
          "name": "stdout",
          "text": [
            "Epoch 1/75\n",
            "469/469 [==============================] - 2s 3ms/step - loss: 0.0906 - accuracy: 0.1087\n",
            "Epoch 2/75\n",
            "469/469 [==============================] - 1s 3ms/step - loss: 0.0900 - accuracy: 0.1755\n",
            "Epoch 3/75\n",
            "469/469 [==============================] - 1s 3ms/step - loss: 0.0896 - accuracy: 0.2361\n",
            "Epoch 4/75\n",
            "469/469 [==============================] - 1s 3ms/step - loss: 0.0892 - accuracy: 0.2595\n",
            "Epoch 5/75\n",
            "469/469 [==============================] - 1s 3ms/step - loss: 0.0888 - accuracy: 0.2692\n",
            "Epoch 6/75\n",
            "469/469 [==============================] - 1s 3ms/step - loss: 0.0884 - accuracy: 0.2740\n",
            "Epoch 7/75\n",
            "469/469 [==============================] - 1s 3ms/step - loss: 0.0881 - accuracy: 0.2783\n",
            "Epoch 8/75\n",
            "469/469 [==============================] - 1s 3ms/step - loss: 0.0878 - accuracy: 0.2805\n",
            "Epoch 9/75\n",
            "469/469 [==============================] - 1s 3ms/step - loss: 0.0874 - accuracy: 0.2841\n",
            "Epoch 10/75\n",
            "469/469 [==============================] - 1s 3ms/step - loss: 0.0871 - accuracy: 0.2879\n",
            "Epoch 11/75\n",
            "469/469 [==============================] - 2s 3ms/step - loss: 0.0867 - accuracy: 0.2918\n",
            "Epoch 12/75\n",
            "469/469 [==============================] - 1s 3ms/step - loss: 0.0864 - accuracy: 0.2963\n",
            "Epoch 13/75\n",
            "469/469 [==============================] - 1s 3ms/step - loss: 0.0860 - accuracy: 0.3011\n",
            "Epoch 14/75\n",
            "469/469 [==============================] - 1s 3ms/step - loss: 0.0856 - accuracy: 0.3055\n",
            "Epoch 15/75\n",
            "469/469 [==============================] - 1s 3ms/step - loss: 0.0853 - accuracy: 0.3113\n",
            "Epoch 16/75\n",
            "469/469 [==============================] - 1s 3ms/step - loss: 0.0849 - accuracy: 0.3179\n",
            "Epoch 17/75\n",
            "469/469 [==============================] - 1s 3ms/step - loss: 0.0845 - accuracy: 0.3233\n",
            "Epoch 18/75\n",
            "469/469 [==============================] - 1s 3ms/step - loss: 0.0841 - accuracy: 0.3283\n",
            "Epoch 19/75\n",
            "469/469 [==============================] - 1s 3ms/step - loss: 0.0837 - accuracy: 0.3349\n",
            "Epoch 20/75\n",
            "469/469 [==============================] - 1s 3ms/step - loss: 0.0833 - accuracy: 0.3427\n",
            "Epoch 21/75\n",
            "469/469 [==============================] - 1s 3ms/step - loss: 0.0829 - accuracy: 0.3487\n",
            "Epoch 22/75\n",
            "469/469 [==============================] - 1s 3ms/step - loss: 0.0825 - accuracy: 0.3574\n",
            "Epoch 23/75\n",
            "469/469 [==============================] - 1s 3ms/step - loss: 0.0821 - accuracy: 0.3647\n",
            "Epoch 24/75\n",
            "469/469 [==============================] - 1s 3ms/step - loss: 0.0817 - accuracy: 0.3730\n",
            "Epoch 25/75\n",
            "469/469 [==============================] - 1s 3ms/step - loss: 0.0813 - accuracy: 0.3807\n",
            "Epoch 26/75\n",
            "469/469 [==============================] - 1s 3ms/step - loss: 0.0809 - accuracy: 0.3878\n",
            "Epoch 27/75\n",
            "469/469 [==============================] - 1s 3ms/step - loss: 0.0804 - accuracy: 0.3980\n",
            "Epoch 28/75\n",
            "469/469 [==============================] - 1s 3ms/step - loss: 0.0800 - accuracy: 0.4058\n",
            "Epoch 29/75\n",
            "469/469 [==============================] - 1s 3ms/step - loss: 0.0796 - accuracy: 0.4134\n",
            "Epoch 30/75\n",
            "469/469 [==============================] - 1s 3ms/step - loss: 0.0791 - accuracy: 0.4233\n",
            "Epoch 31/75\n",
            "469/469 [==============================] - 1s 3ms/step - loss: 0.0787 - accuracy: 0.4320\n",
            "Epoch 32/75\n",
            "469/469 [==============================] - 1s 3ms/step - loss: 0.0783 - accuracy: 0.4392\n",
            "Epoch 33/75\n",
            "469/469 [==============================] - 1s 3ms/step - loss: 0.0778 - accuracy: 0.4493\n",
            "Epoch 34/75\n",
            "469/469 [==============================] - 1s 3ms/step - loss: 0.0774 - accuracy: 0.4568\n",
            "Epoch 35/75\n",
            "469/469 [==============================] - 1s 3ms/step - loss: 0.0769 - accuracy: 0.4658\n",
            "Epoch 36/75\n",
            "469/469 [==============================] - 1s 3ms/step - loss: 0.0765 - accuracy: 0.4749\n",
            "Epoch 37/75\n",
            "469/469 [==============================] - 1s 3ms/step - loss: 0.0761 - accuracy: 0.4826\n",
            "Epoch 38/75\n",
            "469/469 [==============================] - 1s 3ms/step - loss: 0.0756 - accuracy: 0.4917\n",
            "Epoch 39/75\n",
            "469/469 [==============================] - 1s 3ms/step - loss: 0.0752 - accuracy: 0.5001\n",
            "Epoch 40/75\n",
            "469/469 [==============================] - 1s 3ms/step - loss: 0.0747 - accuracy: 0.5087\n",
            "Epoch 41/75\n",
            "469/469 [==============================] - 1s 3ms/step - loss: 0.0743 - accuracy: 0.5168\n",
            "Epoch 42/75\n",
            "469/469 [==============================] - 1s 3ms/step - loss: 0.0738 - accuracy: 0.5236\n",
            "Epoch 43/75\n",
            "469/469 [==============================] - 1s 3ms/step - loss: 0.0734 - accuracy: 0.5314\n",
            "Epoch 44/75\n",
            "469/469 [==============================] - 1s 3ms/step - loss: 0.0729 - accuracy: 0.5398\n",
            "Epoch 45/75\n",
            "469/469 [==============================] - 1s 3ms/step - loss: 0.0725 - accuracy: 0.5478\n",
            "Epoch 46/75\n",
            "469/469 [==============================] - 1s 3ms/step - loss: 0.0721 - accuracy: 0.5542\n",
            "Epoch 47/75\n",
            "469/469 [==============================] - 1s 3ms/step - loss: 0.0716 - accuracy: 0.5610\n",
            "Epoch 48/75\n",
            "469/469 [==============================] - 1s 3ms/step - loss: 0.0712 - accuracy: 0.5683\n",
            "Epoch 49/75\n",
            "469/469 [==============================] - 1s 3ms/step - loss: 0.0707 - accuracy: 0.5751\n",
            "Epoch 50/75\n",
            "469/469 [==============================] - 1s 3ms/step - loss: 0.0703 - accuracy: 0.5819\n",
            "Epoch 51/75\n",
            "469/469 [==============================] - 1s 3ms/step - loss: 0.0698 - accuracy: 0.5889\n",
            "Epoch 52/75\n",
            "469/469 [==============================] - 1s 3ms/step - loss: 0.0694 - accuracy: 0.5950\n",
            "Epoch 53/75\n",
            "469/469 [==============================] - 1s 3ms/step - loss: 0.0689 - accuracy: 0.6004\n",
            "Epoch 54/75\n",
            "469/469 [==============================] - 1s 3ms/step - loss: 0.0685 - accuracy: 0.6065\n",
            "Epoch 55/75\n",
            "469/469 [==============================] - 1s 3ms/step - loss: 0.0680 - accuracy: 0.6127\n",
            "Epoch 56/75\n",
            "469/469 [==============================] - 1s 3ms/step - loss: 0.0676 - accuracy: 0.6185\n",
            "Epoch 57/75\n",
            "469/469 [==============================] - 1s 3ms/step - loss: 0.0671 - accuracy: 0.6240\n",
            "Epoch 58/75\n",
            "469/469 [==============================] - 1s 3ms/step - loss: 0.0667 - accuracy: 0.6282\n",
            "Epoch 59/75\n",
            "469/469 [==============================] - 1s 3ms/step - loss: 0.0662 - accuracy: 0.6327\n",
            "Epoch 60/75\n",
            "469/469 [==============================] - 1s 3ms/step - loss: 0.0658 - accuracy: 0.6378\n",
            "Epoch 61/75\n",
            "469/469 [==============================] - 1s 3ms/step - loss: 0.0653 - accuracy: 0.6420\n",
            "Epoch 62/75\n",
            "469/469 [==============================] - 1s 3ms/step - loss: 0.0649 - accuracy: 0.6463\n",
            "Epoch 63/75\n",
            "469/469 [==============================] - 1s 3ms/step - loss: 0.0644 - accuracy: 0.6503\n",
            "Epoch 64/75\n",
            "469/469 [==============================] - 1s 3ms/step - loss: 0.0640 - accuracy: 0.6550\n",
            "Epoch 65/75\n",
            "469/469 [==============================] - 1s 3ms/step - loss: 0.0635 - accuracy: 0.6579\n",
            "Epoch 66/75\n",
            "469/469 [==============================] - 1s 3ms/step - loss: 0.0631 - accuracy: 0.6616\n",
            "Epoch 67/75\n",
            "469/469 [==============================] - 1s 3ms/step - loss: 0.0626 - accuracy: 0.6647\n",
            "Epoch 68/75\n",
            "469/469 [==============================] - 1s 3ms/step - loss: 0.0622 - accuracy: 0.6675\n",
            "Epoch 69/75\n",
            "469/469 [==============================] - 1s 3ms/step - loss: 0.0617 - accuracy: 0.6705\n",
            "Epoch 70/75\n",
            "469/469 [==============================] - 1s 3ms/step - loss: 0.0613 - accuracy: 0.6728\n",
            "Epoch 71/75\n",
            "469/469 [==============================] - 1s 3ms/step - loss: 0.0608 - accuracy: 0.6757\n",
            "Epoch 72/75\n",
            "469/469 [==============================] - 1s 3ms/step - loss: 0.0604 - accuracy: 0.6788\n",
            "Epoch 73/75\n",
            "469/469 [==============================] - 1s 3ms/step - loss: 0.0599 - accuracy: 0.6809\n",
            "Epoch 74/75\n",
            "469/469 [==============================] - 1s 3ms/step - loss: 0.0595 - accuracy: 0.6830\n",
            "Epoch 75/75\n",
            "469/469 [==============================] - 1s 3ms/step - loss: 0.0591 - accuracy: 0.6856\n"
          ]
        }
      ]
    },
    {
      "cell_type": "code",
      "source": [
        "plt.plot(history.history['accuracy'])\n",
        "plt.title('model accuracy')\n",
        "plt.ylabel('accuracy')\n",
        "plt.xlabel('epoch')\n",
        "plt.show()"
      ],
      "metadata": {
        "colab": {
          "base_uri": "https://localhost:8080/",
          "height": 295
        },
        "id": "_VBTI3tM6UMT",
        "outputId": "100b843b-5949-4261-9114-5a5194d79dec"
      },
      "execution_count": null,
      "outputs": [
        {
          "output_type": "display_data",
          "data": {
            "image/png": "[encoded data removed]",
            "text/plain": [
              "<Figure size 432x288 with 1 Axes>"
            ]
          },
          "metadata": {
            "needs_background": "light"
          }
        }
      ]
    }
  ]
}