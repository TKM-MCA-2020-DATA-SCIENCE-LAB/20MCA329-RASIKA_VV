{
  "nbformat": 4,
  "nbformat_minor": 0,
  "metadata": {
    "colab": {
      "name": "External.ipynb",
      "provenance": [],
      "collapsed_sections": []
    },
    "kernelspec": {
      "name": "python3",
      "display_name": "Python 3"
    },
    "language_info": {
      "name": "python"
    }
  },
  "cells": [
    {
      "cell_type": "markdown",
      "source": [
        "**Feed forward neural network**"
      ],
      "metadata": {
        "id": "V6iLkXBKUylB"
      }
    },
    {
      "cell_type": "code",
      "source": [
        "import keras\n",
        "from keras.datasets import mnist\n",
        "from keras.models import Sequential\n",
        "from keras.layers import Dense\n",
        "from tensorflow.keras.optimizers import SGD"
      ],
      "metadata": {
        "id": "uwyjtSbrVdC3"
      },
      "execution_count": 28,
      "outputs": []
    },
    {
      "cell_type": "code",
      "source": [
        "(x_train,y_train),(x_valid,y_valid)=mnist.load_data()"
      ],
      "metadata": {
        "id": "u1UVnt-sWQjX",
        "colab": {
          "base_uri": "https://localhost:8080/"
        },
        "outputId": "76f3fe78-5822-43fb-fc11-11fef981868a"
      },
      "execution_count": null,
      "outputs": [
        {
          "output_type": "stream",
          "name": "stdout",
          "text": [
            "Downloading data from https://storage.googleapis.com/tensorflow/tf-keras-datasets/mnist.npz\n",
            "11493376/11490434 [==============================] - 0s 0us/step\n",
            "11501568/11490434 [==============================] - 0s 0us/step\n"
          ]
        }
      ]
    },
    {
      "cell_type": "code",
      "source": [
        "\n",
        "x_train=x_train.reshape(60000,784).astype('float32')\n",
        "x_valid=x_valid.reshape(10000,784).astype('float32')"
      ],
      "metadata": {
        "id": "DONSpj5GWhzo"
      },
      "execution_count": null,
      "outputs": []
    },
    {
      "cell_type": "code",
      "source": [
        "from keras import utils as np_utils\n",
        "n_classes=10\n",
        "\n",
        "y_train=keras.utils.np_utils.to_categorical(y_train,n_classes)\n",
        "y_valid=keras.utils.np_utils.to_categorical(y_valid,n_classes)"
      ],
      "metadata": {
        "id": "uIDBdzG_Xz32"
      },
      "execution_count": null,
      "outputs": []
    },
    {
      "cell_type": "code",
      "source": [
        "model=Sequential()"
      ],
      "metadata": {
        "id": "af5fsq3uYufX"
      },
      "execution_count": null,
      "outputs": []
    },
    {
      "cell_type": "code",
      "source": [
        "model.add(Dense(64,activation='sigmoid',input_shape=(784,)))"
      ],
      "metadata": {
        "id": "wmn11glyZABE"
      },
      "execution_count": null,
      "outputs": []
    },
    {
      "cell_type": "code",
      "source": [
        "model.add(Dense(10,activation='softmax'))"
      ],
      "metadata": {
        "id": "h9kUVeGDZCDi"
      },
      "execution_count": null,
      "outputs": []
    },
    {
      "cell_type": "code",
      "source": [
        "model.summary()"
      ],
      "metadata": {
        "colab": {
          "base_uri": "https://localhost:8080/"
        },
        "id": "CjWU11HjZH24",
        "outputId": "9b89083c-e5ef-4300-d344-99af394e2815"
      },
      "execution_count": null,
      "outputs": [
        {
          "output_type": "stream",
          "name": "stdout",
          "text": [
            "Model: \"sequential_2\"\n",
            "_________________________________________________________________\n",
            " Layer (type)                Output Shape              Param #   \n",
            "=================================================================\n",
            " dense (Dense)               (None, 64)                50240     \n",
            "                                                                 \n",
            " dense_1 (Dense)             (None, 10)                650       \n",
            "                                                                 \n",
            "=================================================================\n",
            "Total params: 50,890\n",
            "Trainable params: 50,890\n",
            "Non-trainable params: 0\n",
            "_________________________________________________________________\n"
          ]
        }
      ]
    },
    {
      "cell_type": "code",
      "source": [
        "model.compile(loss='mean_squared_error',optimizer=SGD(learning_rate=0.01),metrics=['accuracy'])"
      ],
      "metadata": {
        "id": "PWu6Iz7QZe15"
      },
      "execution_count": null,
      "outputs": []
    },
    {
      "cell_type": "code",
      "source": [
        "h=model.fit(x_train,y_train,batch_size=128,epochs=90,verbose=1)"
      ],
      "metadata": {
        "colab": {
          "base_uri": "https://localhost:8080/"
        },
        "id": "mL7jhfD2ZtWl",
        "outputId": "f26c7e07-530e-4a21-84a3-715e8833496a"
      },
      "execution_count": 23,
      "outputs": [
        {
          "output_type": "stream",
          "name": "stdout",
          "text": [
            "Epoch 1/90\n",
            "469/469 [==============================] - 1s 3ms/step - loss: 0.0278 - accuracy: 0.8599\n",
            "Epoch 2/90\n",
            "469/469 [==============================] - 1s 3ms/step - loss: 0.0277 - accuracy: 0.8601\n",
            "Epoch 3/90\n",
            "469/469 [==============================] - 1s 3ms/step - loss: 0.0276 - accuracy: 0.8606\n",
            "Epoch 4/90\n",
            "469/469 [==============================] - 1s 3ms/step - loss: 0.0275 - accuracy: 0.8611\n",
            "Epoch 5/90\n",
            "469/469 [==============================] - 1s 3ms/step - loss: 0.0274 - accuracy: 0.8615\n",
            "Epoch 6/90\n",
            "469/469 [==============================] - 2s 4ms/step - loss: 0.0273 - accuracy: 0.8617\n",
            "Epoch 7/90\n",
            "469/469 [==============================] - 2s 3ms/step - loss: 0.0272 - accuracy: 0.8620\n",
            "Epoch 8/90\n",
            "469/469 [==============================] - 1s 3ms/step - loss: 0.0271 - accuracy: 0.8622\n",
            "Epoch 9/90\n",
            "469/469 [==============================] - 1s 3ms/step - loss: 0.0270 - accuracy: 0.8626\n",
            "Epoch 10/90\n",
            "469/469 [==============================] - 1s 3ms/step - loss: 0.0269 - accuracy: 0.8628\n",
            "Epoch 11/90\n",
            "469/469 [==============================] - 1s 3ms/step - loss: 0.0268 - accuracy: 0.8630\n",
            "Epoch 12/90\n",
            "469/469 [==============================] - 1s 3ms/step - loss: 0.0267 - accuracy: 0.8631\n",
            "Epoch 13/90\n",
            "469/469 [==============================] - 1s 3ms/step - loss: 0.0266 - accuracy: 0.8636\n",
            "Epoch 14/90\n",
            "469/469 [==============================] - 1s 3ms/step - loss: 0.0265 - accuracy: 0.8638\n",
            "Epoch 15/90\n",
            "469/469 [==============================] - 1s 3ms/step - loss: 0.0264 - accuracy: 0.8642\n",
            "Epoch 16/90\n",
            "469/469 [==============================] - 1s 3ms/step - loss: 0.0263 - accuracy: 0.8644\n",
            "Epoch 17/90\n",
            "469/469 [==============================] - 1s 3ms/step - loss: 0.0263 - accuracy: 0.8647\n",
            "Epoch 18/90\n",
            "469/469 [==============================] - 1s 3ms/step - loss: 0.0262 - accuracy: 0.8649\n",
            "Epoch 19/90\n",
            "469/469 [==============================] - 2s 4ms/step - loss: 0.0261 - accuracy: 0.8652\n",
            "Epoch 20/90\n",
            "469/469 [==============================] - 2s 4ms/step - loss: 0.0260 - accuracy: 0.8655\n",
            "Epoch 21/90\n",
            "469/469 [==============================] - 1s 3ms/step - loss: 0.0259 - accuracy: 0.8656\n",
            "Epoch 22/90\n",
            "469/469 [==============================] - 1s 3ms/step - loss: 0.0258 - accuracy: 0.8659\n",
            "Epoch 23/90\n",
            "469/469 [==============================] - 1s 3ms/step - loss: 0.0257 - accuracy: 0.8662\n",
            "Epoch 24/90\n",
            "469/469 [==============================] - 1s 3ms/step - loss: 0.0257 - accuracy: 0.8665\n",
            "Epoch 25/90\n",
            "469/469 [==============================] - 1s 3ms/step - loss: 0.0256 - accuracy: 0.8668\n",
            "Epoch 26/90\n",
            "469/469 [==============================] - 1s 3ms/step - loss: 0.0255 - accuracy: 0.8670\n",
            "Epoch 27/90\n",
            "469/469 [==============================] - 1s 3ms/step - loss: 0.0254 - accuracy: 0.8673\n",
            "Epoch 28/90\n",
            "469/469 [==============================] - 1s 3ms/step - loss: 0.0253 - accuracy: 0.8676\n",
            "Epoch 29/90\n",
            "469/469 [==============================] - 1s 3ms/step - loss: 0.0253 - accuracy: 0.8680\n",
            "Epoch 30/90\n",
            "469/469 [==============================] - 1s 3ms/step - loss: 0.0252 - accuracy: 0.8683\n",
            "Epoch 31/90\n",
            "469/469 [==============================] - 1s 3ms/step - loss: 0.0251 - accuracy: 0.8685\n",
            "Epoch 32/90\n",
            "469/469 [==============================] - 1s 3ms/step - loss: 0.0250 - accuracy: 0.8689\n",
            "Epoch 33/90\n",
            "469/469 [==============================] - 1s 3ms/step - loss: 0.0250 - accuracy: 0.8691\n",
            "Epoch 34/90\n",
            "469/469 [==============================] - 1s 3ms/step - loss: 0.0249 - accuracy: 0.8693\n",
            "Epoch 35/90\n",
            "469/469 [==============================] - 1s 3ms/step - loss: 0.0248 - accuracy: 0.8695\n",
            "Epoch 36/90\n",
            "469/469 [==============================] - 1s 3ms/step - loss: 0.0247 - accuracy: 0.8698\n",
            "Epoch 37/90\n",
            "469/469 [==============================] - 1s 3ms/step - loss: 0.0247 - accuracy: 0.8701\n",
            "Epoch 38/90\n",
            "469/469 [==============================] - 1s 3ms/step - loss: 0.0246 - accuracy: 0.8703\n",
            "Epoch 39/90\n",
            "469/469 [==============================] - 1s 3ms/step - loss: 0.0245 - accuracy: 0.8707\n",
            "Epoch 40/90\n",
            "469/469 [==============================] - 1s 3ms/step - loss: 0.0245 - accuracy: 0.8709\n",
            "Epoch 41/90\n",
            "469/469 [==============================] - 1s 3ms/step - loss: 0.0244 - accuracy: 0.8711\n",
            "Epoch 42/90\n",
            "469/469 [==============================] - 1s 3ms/step - loss: 0.0243 - accuracy: 0.8714\n",
            "Epoch 43/90\n",
            "469/469 [==============================] - 2s 4ms/step - loss: 0.0243 - accuracy: 0.8715\n",
            "Epoch 44/90\n",
            "469/469 [==============================] - 2s 5ms/step - loss: 0.0242 - accuracy: 0.8718\n",
            "Epoch 45/90\n",
            "469/469 [==============================] - 2s 3ms/step - loss: 0.0241 - accuracy: 0.8718\n",
            "Epoch 46/90\n",
            "469/469 [==============================] - 1s 3ms/step - loss: 0.0241 - accuracy: 0.8723\n",
            "Epoch 47/90\n",
            "469/469 [==============================] - 1s 3ms/step - loss: 0.0240 - accuracy: 0.8725\n",
            "Epoch 48/90\n",
            "469/469 [==============================] - 1s 3ms/step - loss: 0.0239 - accuracy: 0.8727\n",
            "Epoch 49/90\n",
            "469/469 [==============================] - 1s 3ms/step - loss: 0.0239 - accuracy: 0.8730\n",
            "Epoch 50/90\n",
            "469/469 [==============================] - 1s 3ms/step - loss: 0.0238 - accuracy: 0.8733\n",
            "Epoch 51/90\n",
            "469/469 [==============================] - 1s 3ms/step - loss: 0.0237 - accuracy: 0.8735\n",
            "Epoch 52/90\n",
            "469/469 [==============================] - 1s 3ms/step - loss: 0.0237 - accuracy: 0.8739\n",
            "Epoch 53/90\n",
            "469/469 [==============================] - 1s 3ms/step - loss: 0.0236 - accuracy: 0.8742\n",
            "Epoch 54/90\n",
            "469/469 [==============================] - 1s 3ms/step - loss: 0.0236 - accuracy: 0.8746\n",
            "Epoch 55/90\n",
            "469/469 [==============================] - 1s 3ms/step - loss: 0.0235 - accuracy: 0.8747\n",
            "Epoch 56/90\n",
            "469/469 [==============================] - 1s 3ms/step - loss: 0.0234 - accuracy: 0.8750\n",
            "Epoch 57/90\n",
            "469/469 [==============================] - 1s 3ms/step - loss: 0.0234 - accuracy: 0.8752\n",
            "Epoch 58/90\n",
            "469/469 [==============================] - 1s 3ms/step - loss: 0.0233 - accuracy: 0.8753\n",
            "Epoch 59/90\n",
            "469/469 [==============================] - 1s 3ms/step - loss: 0.0233 - accuracy: 0.8757\n",
            "Epoch 60/90\n",
            "469/469 [==============================] - 1s 3ms/step - loss: 0.0232 - accuracy: 0.8759\n",
            "Epoch 61/90\n",
            "469/469 [==============================] - 1s 3ms/step - loss: 0.0232 - accuracy: 0.8761\n",
            "Epoch 62/90\n",
            "469/469 [==============================] - 1s 3ms/step - loss: 0.0231 - accuracy: 0.8763\n",
            "Epoch 63/90\n",
            "469/469 [==============================] - 1s 3ms/step - loss: 0.0230 - accuracy: 0.8766\n",
            "Epoch 64/90\n",
            "469/469 [==============================] - 1s 3ms/step - loss: 0.0230 - accuracy: 0.8767\n",
            "Epoch 65/90\n",
            "469/469 [==============================] - 1s 3ms/step - loss: 0.0229 - accuracy: 0.8770\n",
            "Epoch 66/90\n",
            "469/469 [==============================] - 2s 4ms/step - loss: 0.0229 - accuracy: 0.8772\n",
            "Epoch 67/90\n",
            "469/469 [==============================] - 2s 4ms/step - loss: 0.0228 - accuracy: 0.8773\n",
            "Epoch 68/90\n",
            "469/469 [==============================] - 1s 3ms/step - loss: 0.0228 - accuracy: 0.8774\n",
            "Epoch 69/90\n",
            "469/469 [==============================] - 1s 3ms/step - loss: 0.0227 - accuracy: 0.8774\n",
            "Epoch 70/90\n",
            "469/469 [==============================] - 1s 3ms/step - loss: 0.0227 - accuracy: 0.8776\n",
            "Epoch 71/90\n",
            "469/469 [==============================] - 1s 3ms/step - loss: 0.0226 - accuracy: 0.8778\n",
            "Epoch 72/90\n",
            "469/469 [==============================] - 1s 3ms/step - loss: 0.0226 - accuracy: 0.8780\n",
            "Epoch 73/90\n",
            "469/469 [==============================] - 1s 3ms/step - loss: 0.0225 - accuracy: 0.8781\n",
            "Epoch 74/90\n",
            "469/469 [==============================] - 1s 3ms/step - loss: 0.0225 - accuracy: 0.8781\n",
            "Epoch 75/90\n",
            "469/469 [==============================] - 1s 3ms/step - loss: 0.0224 - accuracy: 0.8783\n",
            "Epoch 76/90\n",
            "469/469 [==============================] - 1s 3ms/step - loss: 0.0224 - accuracy: 0.8784\n",
            "Epoch 77/90\n",
            "469/469 [==============================] - 1s 3ms/step - loss: 0.0223 - accuracy: 0.8784\n",
            "Epoch 78/90\n",
            "469/469 [==============================] - 1s 3ms/step - loss: 0.0223 - accuracy: 0.8785\n",
            "Epoch 79/90\n",
            "469/469 [==============================] - 1s 3ms/step - loss: 0.0222 - accuracy: 0.8788\n",
            "Epoch 80/90\n",
            "469/469 [==============================] - 1s 3ms/step - loss: 0.0222 - accuracy: 0.8790\n",
            "Epoch 81/90\n",
            "469/469 [==============================] - 1s 3ms/step - loss: 0.0221 - accuracy: 0.8792\n",
            "Epoch 82/90\n",
            "469/469 [==============================] - 1s 3ms/step - loss: 0.0221 - accuracy: 0.8793\n",
            "Epoch 83/90\n",
            "469/469 [==============================] - 1s 3ms/step - loss: 0.0220 - accuracy: 0.8794\n",
            "Epoch 84/90\n",
            "469/469 [==============================] - 1s 3ms/step - loss: 0.0220 - accuracy: 0.8796\n",
            "Epoch 85/90\n",
            "469/469 [==============================] - 1s 3ms/step - loss: 0.0220 - accuracy: 0.8798\n",
            "Epoch 86/90\n",
            "469/469 [==============================] - 1s 3ms/step - loss: 0.0219 - accuracy: 0.8800\n",
            "Epoch 87/90\n",
            "469/469 [==============================] - 1s 3ms/step - loss: 0.0219 - accuracy: 0.8802\n",
            "Epoch 88/90\n",
            "469/469 [==============================] - 1s 3ms/step - loss: 0.0218 - accuracy: 0.8803\n",
            "Epoch 89/90\n",
            "469/469 [==============================] - 1s 3ms/step - loss: 0.0218 - accuracy: 0.8804\n",
            "Epoch 90/90\n",
            "469/469 [==============================] - 1s 3ms/step - loss: 0.0217 - accuracy: 0.8807\n"
          ]
        }
      ]
    }
  ]
}